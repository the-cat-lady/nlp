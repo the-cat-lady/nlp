{
 "cells": [
  {
   "cell_type": "code",
   "execution_count": 13,
   "metadata": {},
   "outputs": [],
   "source": [
    "import nltk\n",
    "import random\n",
    "import numpy as np\n",
    "from bs4 import BeautifulSoup"
   ]
  },
  {
   "cell_type": "code",
   "execution_count": 14,
   "metadata": {},
   "outputs": [],
   "source": [
    "positive_reviews = BeautifulSoup(open('data/positive.review').read())\n",
    "positive_reviews = positive_reviews.findAll('review_text')"
   ]
  },
  {
   "cell_type": "code",
   "execution_count": 15,
   "metadata": {},
   "outputs": [],
   "source": [
    "trigrams = {} # ex: {('i', 'this'): ['purchased', 'bought', 'recommend', 'use'], (x, y):[abc, def], ...}\n",
    "for review in positive_reviews:\n",
    "    s = review.text.lower()\n",
    "    tokens = nltk.tokenize.word_tokenize(s)\n",
    "    for i in range(len(tokens) - 2):\n",
    "        k = (tokens[i], tokens[i+2])\n",
    "        if k not in trigrams:\n",
    "            trigrams[k] = []\n",
    "        trigrams[k].append(tokens[i+1]) # key = tuple of before-word and after-word, val = list of between words\n"
   ]
  },
  {
   "cell_type": "code",
   "execution_count": 16,
   "metadata": {
    "scrolled": true
   },
   "outputs": [
    {
     "name": "stdout",
     "output_type": "stream",
     "text": [
      "33 1000\n",
      "67295\n"
     ]
    }
   ],
   "source": [
    "print(len(tokens), len(positive_reviews))\n",
    "print(len(trigrams))\n",
    "# trigrams"
   ]
  },
  {
   "cell_type": "code",
   "execution_count": 17,
   "metadata": {},
   "outputs": [],
   "source": [
    "trigrams_probabilities = {} # key = before & after word tuple, val = dict of middlewords:probabilities\n",
    "# ex: {('i', 'this'): {'purchased': 0.12422360248447205, 'bought': 0.3105590062111801},...}\n",
    "for k, words in trigrams.items():\n",
    "    if len(set(words)) > 1:\n",
    "        d = {}\n",
    "        n = 0\n",
    "        for w in words:\n",
    "            if w not in d:\n",
    "                d[w] = 0\n",
    "            d[w] += 1\n",
    "            n += 1\n",
    "        for w, c in d.items():\n",
    "            d[w] = float(c) / n\n",
    "        trigrams_probabilities[k] = d"
   ]
  },
  {
   "cell_type": "code",
   "execution_count": 18,
   "metadata": {},
   "outputs": [],
   "source": [
    "# trigrams_probabilities"
   ]
  },
  {
   "cell_type": "code",
   "execution_count": 19,
   "metadata": {},
   "outputs": [],
   "source": [
    "def random_sample(d):\n",
    "    r = random.random()\n",
    "    cumulative = 0\n",
    "    for w, p in d.items():\n",
    "        cumulative += p\n",
    "        if r < cumulative:\n",
    "            return w"
   ]
  },
  {
   "cell_type": "code",
   "execution_count": 20,
   "metadata": {},
   "outputs": [],
   "source": [
    "# test the random_sample() function.  select a review, make substitution, print both for comparison\n",
    "def test_spinner():\n",
    "    review = random.choice(positive_reviews)\n",
    "    s = review.text.lower()\n",
    "    print('Original: ', s)\n",
    "    tokens = nltk.tokenize.word_tokenize(s)\n",
    "    for i in range(len(tokens) -2):\n",
    "        if random.random() < 0.2:\n",
    "            k = (tokens[i], tokens[i+2])\n",
    "            if k in trigrams_probabilities:\n",
    "                w = random_sample(trigrams_probabilities[k])\n",
    "                tokens[i+1] = w\n",
    "    print('Spun: ')\n",
    "    print(' '.join(tokens).replace(' .','.').replace(\" ''\", \"''\").replace(' ,',',').replace('$ ','$').replace(' !','!'))"
   ]
  },
  {
   "cell_type": "code",
   "execution_count": 21,
   "metadata": {},
   "outputs": [
    {
     "name": "stdout",
     "output_type": "stream",
     "text": [
      "Original:  \n",
      "all in-ear headphones will make some noise when the wires brush up against something.  sound travels along wires... it's physics, there's nothing you can do about that.  now, these earphones are incredibly light-weight and the wires are thin so that actually reduces the noise traveling through the wires.  \n",
      "\n",
      "these headphones are called \"asymmetric,\" meaning that the right earbud is on a longer wire than the left.  you wear this by putting the wire on the right earbud behind your neck.  this leaves the area in front of you clear of wires that could get tangled up in your hands.  this also makes it easy to each lunch while listening to music so your food doesn't spill on the wire.\n",
      "\n",
      "i paid about 60 bucks and for that price, i love these headphones.  face it, these are low to mid-range in terms of price, but perform more like mid-range to high range if you ask me.  the cable is thin and flexible yet seems pretty resistant to damage.  the buds are comfy and i like the asymmetric design.  people need to realize that there are premium headphones for $500 or more.  i think people need to keep perspective and not have too high expectations from only a $60 pair\n",
      "\n",
      "Spun: \n",
      "all in-ear headphones will make some noise when the wires brush up against something. sound travels along wires... it 's on, there 's what you can do about that. now, these earphones are incredibly light-weight and the wires are thin so that actually reduces the noise traveling through the wires. these speakers are called `` asymmetric,'' meaning that the right earbud is on a longer wire than the left. you wear this by putting the wire on the right earbud behind your neck. this is the songs in january of you clear of wires that could get tangled up in your hands. this printer makes it easy to each lunch while connected to music so your food does n't spill on the wire. i paid about 60 bucks and for that price, i love these phones. face it, these speakers low to mid-range in fear of price, but perform more like mid-range to high range if you ask me. the cable is available and flexible yet seems pretty resistant to damage. the buds are comfy and i like the asymmetric design. people need to realize that there are premium headphones for $500 or more. i think people need to keep perspective and not hook too high reviews from only a $60 pair\n"
     ]
    }
   ],
   "source": [
    "test_spinner()"
   ]
  },
  {
   "cell_type": "code",
   "execution_count": null,
   "metadata": {},
   "outputs": [],
   "source": []
  }
 ],
 "metadata": {
  "kernelspec": {
   "display_name": "Python 3",
   "language": "python",
   "name": "python3"
  },
  "language_info": {
   "codemirror_mode": {
    "name": "ipython",
    "version": 3
   },
   "file_extension": ".py",
   "mimetype": "text/x-python",
   "name": "python",
   "nbconvert_exporter": "python",
   "pygments_lexer": "ipython3",
   "version": "3.7.0"
  }
 },
 "nbformat": 4,
 "nbformat_minor": 2
}
