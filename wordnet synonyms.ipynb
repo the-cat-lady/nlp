{
 "cells": [
  {
   "cell_type": "markdown",
   "metadata": {},
   "source": [
    "# Wordnet and synonyms study\n",
    "\n",
    "* Playing around with wordnet module from nltk\n",
    "* wrote a descent synonym generating function using wordnet"
   ]
  },
  {
   "cell_type": "code",
   "execution_count": 3,
   "metadata": {},
   "outputs": [],
   "source": [
    "import matplotlib.pyplot as plt\n",
    "%matplotlib inline"
   ]
  },
  {
   "cell_type": "code",
   "execution_count": 24,
   "metadata": {},
   "outputs": [
    {
     "data": {
      "text/plain": [
       "[Synset('dog.n.01'),\n",
       " Synset('frump.n.01'),\n",
       " Synset('dog.n.03'),\n",
       " Synset('cad.n.01'),\n",
       " Synset('frank.n.02'),\n",
       " Synset('pawl.n.01'),\n",
       " Synset('andiron.n.01'),\n",
       " Synset('chase.v.01')]"
      ]
     },
     "execution_count": 24,
     "metadata": {},
     "output_type": "execute_result"
    }
   ],
   "source": [
    "from nltk.corpus import wordnet as wn\n",
    "\n",
    "wn.synsets('dog')"
   ]
  },
  {
   "cell_type": "code",
   "execution_count": 28,
   "metadata": {},
   "outputs": [
    {
     "name": "stdout",
     "output_type": "stream",
     "text": [
      "car\n",
      "[Synset('car.n.01'), Synset('car.n.02'), Synset('car.n.03'), Synset('car.n.04'), Synset('cable_car.n.01')]\n"
     ]
    }
   ],
   "source": [
    "def get_syns(w):\n",
    "    print(w)\n",
    "    sets = wn.synsets(w, pos='n')\n",
    "    print(sets)\n",
    "    pass\n",
    "\n",
    "get_syns('car')"
   ]
  },
  {
   "cell_type": "code",
   "execution_count": 30,
   "metadata": {},
   "outputs": [
    {
     "data": {
      "text/plain": [
       "Synset('dog.n.01')"
      ]
     },
     "execution_count": 30,
     "metadata": {},
     "output_type": "execute_result"
    }
   ],
   "source": [
    "wn.synset('dog.n.01')"
   ]
  },
  {
   "cell_type": "code",
   "execution_count": 33,
   "metadata": {
    "scrolled": true
   },
   "outputs": [
    {
     "name": "stdout",
     "output_type": "stream",
     "text": [
      "Getting synonyms for business\n",
      "[('simA.lsp', dict_keys(['financial', 'corporate', 'scientific', 'economic', 'educational', 'commercial', 'medical', 'academic', 'technical', 'Political', 'social', 'administrative', 'environmental', 'industrial', 'technological', 'e-commerce', 'philanthropic', 'cultural', 'organizational', 'humanitarian', 'military', 'managerial', 'artistic', 'governmental', 'leisure', 'professional', 'institutional', 'legal', 'regional', 'agricultural', 'logistical', 'domestic', 'national', 'civic', 'sales', 'international', 'strategic', 'diplomatic', 'entrepreneurial', 'personal', 'consulting', 'residential', 'Automotive', 'global', 'journalistic', 'literary', 'Sporting', 'private', 'high-tech', 'religious', 'promotional', 'historical', 'recreational', 'various', 'regulatory', 'local', 'socioeconomic', 'farming', 'other', 'long-term', 'charitable', 'web-based', 'public', 'ethical', 'on-line', 'overall', 'welfare', 'Judicial', 'parenting', 'spiritual', 'moral', 'aesthetic', 'operational', 'new', 'online', 'infrastructural', 'Internet-based', 'geographic', 'human', 'tactical', 'budgetary', 'new-media', 'existing', 'nonprofit', 'wireless', 'specialized', 'macro-economic', 'Occupational', 'electoral', 'informational', 'intellectual', 'fiscal', 'monetary', 'Ideological', 'psychological', 'major', 'musical', 'legislative', 'consular', 'editorial', 'statistical', 'money-making', 'basic', 'parliamentary', 'health-related', 'civil', 'procedural', 'bilateral', 'rental', 'geopolitical', 'geographical', 'European', 'money-raising', 'curatorial', 'familial', 'private-sector', 'athletic', 'architectural', 'winemaking', 'electronic', 'nongovernmental', 'Postal', 'investigative', 'ecological', 'pharmaceutical', 'foreign', 'internal', 'special', 'current', 'purchasing', 'public-private', 'urban', 'Societal', 'vocational', 'operating', 'theoretical', 'noncommercial', 'theological', 'traditional', 'Internet-related', 'import-export', 'stand-alone', 'creative', 'demographic', 'culinary', 'juridical', 'dot-com', 'in-house', 'practical', 'consultative', 'longer-term', 'main', 'clinical', 'Municipal', 'Non-governmental', 'high-level', 'sociological', 'transatlantic', 'nutritional', 'fixed-income', 'developmental', 'physical', 'land-use', 'prosecutorial', 'instructional', 'crime-fighting', 'clerical', 'maritime', 'messaging', 'particular', 'theatrical', 'broad-based', 'long-distance', 'mathematical', 'interactive', 'analytical', 'contractual', 'so-called', 'scholarly', 'joint', 'hi-tech', 'fund-raising', 'philosophical', 'Logistic', 'additional', 'bureaucratic', 'long- term', 'special-interest', 'entire', 'tribal', 'mobile-phone', 'Asian', 'esthetic', 'respective', 'non-government', 'ministerial', 'utilitarian', 'profit-making', 'recruiting', 'structural'])), ('simN.lsp', dict_keys(['industry', 'company', 'enterprise', 'sector', 'market', 'operation', 'firm', 'service', 'investment', 'corporation', 'sale', 'economy', 'customer', 'product', 'venture', 'bank', 'project', 'trade', 'banking', 'system', 'technology', 'consumer', 'activity', 'manufacturer', 'development', 'investor', 'institution', 'stock', 'production', 'job', 'unit', 'organization', 'program', 'network', 'group', 'commerce', 'manufacturing', 'management', 'store', 'people', 'tourism', 'transaction', 'retailer', 'factory', 'sport', 'fund', 'community', 'financial institution', 'country', 'asset', 'agency', 'subsidiary', 'work', 'politics', 'joint venture', 'worker', 'division', 'airline', 'farmer', 'provider', 'export', 'marketing', 'growth', 'real estate', 'individual', 'life', 'school', 'plant', 'revenue', 'government', 'agriculture', 'area', 'shop', 'property', 'education', 'interest', 'family', 'user', 'supplier', 'e-commerce', 'facility', 'telecommunication', 'research', 'Advertising', 'world', 'profit', 'employer', 'employee', 'site', 'office', 'communication', 'infrastructure', 'Internet', 'buyer', 'maker', 'state', 'process', 'finance', 'operator', 'deal', 'money', 'construction', 'security', 'culture', 'software', 'startup', 'department', 'those', 'brand', 'issue', 'marketplace', 'environment', 'goods', 'society', 'strategy', 'utility', 'entity', 'center', 'loan', 'share', 'price', 'client', 'art', 'city', 'earnings', 'purchase', 'plan', 'problem', 'media', 'equipment', 'China', 'conglomerate', 'producer', 'Computer', 'nation', 'entrepreneur', 'competition', 'insurance', 'relationship', 'region', 'stock market', 'student', 'policy', 'restaurant', 'businessmen', 'outlet', 'Entertainment', 'resource', 'retailing', 'cooperation', 'transportation', 'public', 'science', 'trading', 'commercial bank', 'insurance company', 'farming', 'account', 'merchant', 'professional', 'giant', 'acquisition', 'future', 'portfolio', 'distribution', 'carrier', 'insurer', 'field', 'relation', 'effort', 'developer', 'health care', 'application', 'chain', 'health', 'exporter', 'partnership', 'building', 'dealer', 'number', 'case', 'practice', 'thing', 'house', 'campaign', 'spending', 'employment', 'mutual fund', 'owner', 'lending', 'income', 'profession', 'household', 'woman', 'resident', 'child', 'hospital', 'power', 'contract', 'military'])), ('simV.lsp', dict_keys([]))]\n",
      "Getting scored synonyms for business\n",
      "[('simA.lsp', dict_items([('financial', 0.250176), ('corporate', 0.219549), ('scientific', 0.203359), ('economic', 0.202394), ('educational', 0.200625), ('commercial', 0.199576), ('medical', 0.193501), ('academic', 0.190653), ('technical', 0.182163), ('Political', 0.177747), ('social', 0.16466), ('administrative', 0.158329), ('environmental', 0.157808), ('industrial', 0.15723), ('technological', 0.155634), ('e-commerce', 0.155215), ('philanthropic', 0.15254), ('cultural', 0.150536), ('organizational', 0.149086), ('humanitarian', 0.149071), ('military', 0.148228), ('managerial', 0.146855), ('artistic', 0.146746), ('governmental', 0.142218), ('leisure', 0.141348), ('professional', 0.14113), ('institutional', 0.140723), ('legal', 0.137325), ('regional', 0.137045), ('agricultural', 0.136968), ('logistical', 0.136293), ('domestic', 0.135461), ('national', 0.133986), ('civic', 0.132606), ('sales', 0.132211), ('international', 0.131617), ('strategic', 0.128854), ('diplomatic', 0.128526), ('entrepreneurial', 0.128461), ('personal', 0.128052), ('consulting', 0.127694), ('residential', 0.125145), ('Automotive', 0.124131), ('global', 0.123953), ('journalistic', 0.122437), ('literary', 0.122016), ('Sporting', 0.121651), ('private', 0.120916), ('high-tech', 0.120372), ('religious', 0.119131), ('promotional', 0.116968), ('historical', 0.114917), ('recreational', 0.114614), ('various', 0.113555), ('regulatory', 0.113267), ('local', 0.112901), ('socioeconomic', 0.112553), ('farming', 0.111987), ('other', 0.111398), ('long-term', 0.111186), ('charitable', 0.110835), ('web-based', 0.11048), ('public', 0.110418), ('ethical', 0.108278), ('on-line', 0.107607), ('overall', 0.107086), ('welfare', 0.105554), ('Judicial', 0.104915), ('parenting', 0.104719), ('spiritual', 0.104032), ('moral', 0.103693), ('aesthetic', 0.103365), ('operational', 0.103246), ('new', 0.103121), ('online', 0.10256), ('infrastructural', 0.10215), ('Internet-based', 0.101842), ('geographic', 0.101766), ('human', 0.101718), ('tactical', 0.101587), ('budgetary', 0.101527), ('new-media', 0.101225), ('existing', 0.101204), ('nonprofit', 0.100999), ('wireless', 0.10094), ('specialized', 0.100345), ('macro-economic', 0.100011), ('Occupational', 0.0995305), ('electoral', 0.0994652), ('informational', 0.0990857), ('intellectual', 0.0985153), ('fiscal', 0.0983501), ('monetary', 0.0977805), ('Ideological', 0.0975661), ('psychological', 0.0967153), ('major', 0.0964036), ('musical', 0.0959827), ('legislative', 0.0958653), ('consular', 0.0954629), ('editorial', 0.0953643), ('statistical', 0.0951914), ('money-making', 0.094659), ('basic', 0.0945361), ('parliamentary', 0.0940826), ('health-related', 0.0937238), ('civil', 0.0937002), ('procedural', 0.0933949), ('bilateral', 0.093104), ('rental', 0.0930717), ('geopolitical', 0.0930411), ('geographical', 0.092808), ('European', 0.0924727), ('money-raising', 0.092398), ('curatorial', 0.0923814), ('familial', 0.0923559), ('private-sector', 0.0922434), ('athletic', 0.0922078), ('architectural', 0.091313), ('winemaking', 0.09074), ('electronic', 0.0906854), ('nongovernmental', 0.0901965), ('Postal', 0.0901154), ('investigative', 0.090074), ('ecological', 0.0893615), ('pharmaceutical', 0.0893071), ('foreign', 0.0892759), ('internal', 0.0891662), ('special', 0.0891416), ('current', 0.0887924), ('purchasing', 0.0887666), ('public-private', 0.0885949), ('urban', 0.0884472), ('Societal', 0.0883772), ('vocational', 0.0880429), ('operating', 0.0874457), ('theoretical', 0.0872589), ('noncommercial', 0.0870863), ('theological', 0.0869794), ('traditional', 0.0866872), ('Internet-related', 0.086447), ('import-export', 0.086313), ('stand-alone', 0.0862255), ('creative', 0.0860247), ('demographic', 0.0855972), ('culinary', 0.0853052), ('juridical', 0.0852059), ('dot-com', 0.0850439), ('in-house', 0.0850364), ('practical', 0.084958), ('consultative', 0.0849457), ('longer-term', 0.0848863), ('main', 0.0848721), ('clinical', 0.0846823), ('Municipal', 0.0846232), ('Non-governmental', 0.084407), ('high-level', 0.0843286), ('sociological', 0.0842712), ('transatlantic', 0.0841964), ('nutritional', 0.0841345), ('fixed-income', 0.0838855), ('developmental', 0.0837377), ('physical', 0.0836528), ('land-use', 0.0834273), ('prosecutorial', 0.0833085), ('instructional', 0.0821329), ('crime-fighting', 0.0818673), ('clerical', 0.081708), ('maritime', 0.0815408), ('messaging', 0.081162), ('particular', 0.0811454), ('theatrical', 0.0807446), ('broad-based', 0.0804173), ('long-distance', 0.0804153), ('mathematical', 0.0800627), ('interactive', 0.0796318), ('analytical', 0.0793785), ('contractual', 0.0793335), ('so-called', 0.0790067), ('scholarly', 0.0789323), ('joint', 0.0788214), ('hi-tech', 0.0787816), ('fund-raising', 0.0787336), ('philosophical', 0.0782437), ('Logistic', 0.078207), ('additional', 0.0781801), ('bureaucratic', 0.0780685), ('long- term', 0.0775963), ('special-interest', 0.0774989), ('entire', 0.0772008), ('tribal', 0.0770781), ('mobile-phone', 0.0770225), ('Asian', 0.0769822), ('esthetic', 0.0768358), ('respective', 0.0767251), ('non-government', 0.0766743), ('ministerial', 0.0763036), ('utilitarian', 0.0762226), ('profit-making', 0.0761217), ('recruiting', 0.0758574), ('structural', 0.0758516)])), ('simN.lsp', dict_items([('industry', 0.24503), ('company', 0.228003), ('enterprise', 0.202295), ('sector', 0.193277), ('market', 0.188999), ('operation', 0.178235), ('firm', 0.176027), ('service', 0.168128), ('investment', 0.162976), ('corporation', 0.161552), ('sale', 0.160246), ('economy', 0.155032), ('customer', 0.153496), ('product', 0.153467), ('venture', 0.152284), ('bank', 0.149227), ('project', 0.148738), ('trade', 0.143993), ('banking', 0.142993), ('system', 0.141479), ('technology', 0.140956), ('consumer', 0.140298), ('activity', 0.139738), ('manufacturer', 0.137727), ('development', 0.136939), ('investor', 0.136546), ('institution', 0.135846), ('stock', 0.134976), ('production', 0.134335), ('job', 0.133871), ('unit', 0.133166), ('organization', 0.132778), ('program', 0.132457), ('network', 0.132175), ('group', 0.129781), ('commerce', 0.129393), ('manufacturing', 0.128845), ('management', 0.127588), ('store', 0.127328), ('people', 0.126712), ('tourism', 0.126566), ('transaction', 0.126141), ('retailer', 0.125683), ('factory', 0.125502), ('sport', 0.125289), ('fund', 0.124578), ('community', 0.124507), ('financial institution', 0.124101), ('country', 0.123664), ('asset', 0.123386), ('agency', 0.122175), ('subsidiary', 0.121458), ('work', 0.121355), ('politics', 0.120953), ('joint venture', 0.120377), ('worker', 0.119851), ('division', 0.119666), ('airline', 0.119146), ('farmer', 0.118589), ('provider', 0.118386), ('export', 0.118352), ('marketing', 0.117921), ('growth', 0.117463), ('real estate', 0.116294), ('individual', 0.11608), ('life', 0.115837), ('school', 0.115741), ('plant', 0.115481), ('revenue', 0.114833), ('government', 0.114762), ('agriculture', 0.114525), ('area', 0.114467), ('shop', 0.11422), ('property', 0.113992), ('education', 0.112901), ('interest', 0.112863), ('family', 0.11271), ('user', 0.112144), ('supplier', 0.111852), ('e-commerce', 0.111803), ('facility', 0.111697), ('telecommunication', 0.111489), ('research', 0.111424), ('Advertising', 0.111416), ('world', 0.111159), ('profit', 0.110891), ('employer', 0.110388), ('employee', 0.110256), ('site', 0.110055), ('office', 0.110028), ('communication', 0.109239), ('infrastructure', 0.108754), ('Internet', 0.108694), ('buyer', 0.10833), ('maker', 0.10823), ('state', 0.108088), ('process', 0.107835), ('finance', 0.107373), ('operator', 0.10728), ('deal', 0.106568), ('money', 0.106227), ('construction', 0.106189), ('security', 0.105849), ('culture', 0.105555), ('software', 0.105273), ('startup', 0.10524), ('department', 0.10509), ('those', 0.104919), ('brand', 0.104847), ('issue', 0.104746), ('marketplace', 0.104592), ('environment', 0.104356), ('goods', 0.103844), ('society', 0.103662), ('strategy', 0.102319), ('utility', 0.102162), ('entity', 0.101859), ('center', 0.101314), ('loan', 0.101008), ('share', 0.100895), ('price', 0.100521), ('client', 0.100321), ('art', 0.1003), ('city', 0.100257), ('earnings', 0.100054), ('purchase', 0.099907), ('plan', 0.0998914), ('problem', 0.0998165), ('media', 0.0996697), ('equipment', 0.0995957), ('China', 0.0995457), ('conglomerate', 0.0995092), ('producer', 0.0992488), ('Computer', 0.099217), ('nation', 0.0991572), ('entrepreneur', 0.0990735), ('competition', 0.0990629), ('insurance', 0.0989683), ('relationship', 0.0988077), ('region', 0.0987941), ('stock market', 0.0987296), ('student', 0.0985188), ('policy', 0.0981976), ('restaurant', 0.098081), ('businessmen', 0.0979666), ('outlet', 0.0973561), ('Entertainment', 0.0973233), ('resource', 0.0972236), ('retailing', 0.0971627), ('cooperation', 0.0970438), ('transportation', 0.0970057), ('public', 0.0969883), ('science', 0.0966746), ('trading', 0.0965769), ('commercial bank', 0.0965649), ('insurance company', 0.0963265), ('farming', 0.0962878), ('account', 0.0960303), ('merchant', 0.0959747), ('professional', 0.0959475), ('giant', 0.0959396), ('acquisition', 0.0958901), ('future', 0.0957128), ('portfolio', 0.0956504), ('distribution', 0.0955402), ('carrier', 0.0955293), ('insurer', 0.0953828), ('field', 0.0953592), ('relation', 0.0952116), ('effort', 0.0950932), ('developer', 0.0949997), ('health care', 0.0948261), ('application', 0.0947769), ('chain', 0.0945882), ('health', 0.0945117), ('exporter', 0.0944583), ('partnership', 0.0944277), ('building', 0.0943738), ('dealer', 0.0943278), ('number', 0.0942721), ('case', 0.0941475), ('practice', 0.0938709), ('thing', 0.0936113), ('house', 0.0932461), ('campaign', 0.093029), ('spending', 0.0929661), ('employment', 0.0928921), ('mutual fund', 0.0928674), ('owner', 0.0928434), ('lending', 0.0927571), ('income', 0.0927532), ('profession', 0.0926733), ('household', 0.0926498), ('woman', 0.0925847), ('resident', 0.0925092), ('child', 0.0924897), ('hospital', 0.0923852), ('power', 0.0923149), ('contract', 0.0919802), ('military', 0.0918999)])), ('simV.lsp', dict_items([]))]\n",
      "Getting synonyms from simN.lsp (noun subsection) for business\n",
      "dict_keys(['industry', 'company', 'enterprise', 'sector', 'market', 'operation', 'firm', 'service', 'investment', 'corporation', 'sale', 'economy', 'customer', 'product', 'venture', 'bank', 'project', 'trade', 'banking', 'system', 'technology', 'consumer', 'activity', 'manufacturer', 'development', 'investor', 'institution', 'stock', 'production', 'job', 'unit', 'organization', 'program', 'network', 'group', 'commerce', 'manufacturing', 'management', 'store', 'people', 'tourism', 'transaction', 'retailer', 'factory', 'sport', 'fund', 'community', 'financial institution', 'country', 'asset', 'agency', 'subsidiary', 'work', 'politics', 'joint venture', 'worker', 'division', 'airline', 'farmer', 'provider', 'export', 'marketing', 'growth', 'real estate', 'individual', 'life', 'school', 'plant', 'revenue', 'government', 'agriculture', 'area', 'shop', 'property', 'education', 'interest', 'family', 'user', 'supplier', 'e-commerce', 'facility', 'telecommunication', 'research', 'Advertising', 'world', 'profit', 'employer', 'employee', 'site', 'office', 'communication', 'infrastructure', 'Internet', 'buyer', 'maker', 'state', 'process', 'finance', 'operator', 'deal', 'money', 'construction', 'security', 'culture', 'software', 'startup', 'department', 'those', 'brand', 'issue', 'marketplace', 'environment', 'goods', 'society', 'strategy', 'utility', 'entity', 'center', 'loan', 'share', 'price', 'client', 'art', 'city', 'earnings', 'purchase', 'plan', 'problem', 'media', 'equipment', 'China', 'conglomerate', 'producer', 'Computer', 'nation', 'entrepreneur', 'competition', 'insurance', 'relationship', 'region', 'stock market', 'student', 'policy', 'restaurant', 'businessmen', 'outlet', 'Entertainment', 'resource', 'retailing', 'cooperation', 'transportation', 'public', 'science', 'trading', 'commercial bank', 'insurance company', 'farming', 'account', 'merchant', 'professional', 'giant', 'acquisition', 'future', 'portfolio', 'distribution', 'carrier', 'insurer', 'field', 'relation', 'effort', 'developer', 'health care', 'application', 'chain', 'health', 'exporter', 'partnership', 'building', 'dealer', 'number', 'case', 'practice', 'thing', 'house', 'campaign', 'spending', 'employment', 'mutual fund', 'owner', 'lending', 'income', 'profession', 'household', 'woman', 'resident', 'child', 'hospital', 'power', 'contract', 'military'])\n",
      "Getting synonyms from simN.lsp (noun subsection) for business\n",
      "dict_keys(['industry', 'company', 'enterprise', 'sector', 'market', 'operation', 'firm', 'service', 'investment', 'corporation', 'sale', 'economy', 'customer', 'product', 'venture', 'bank', 'project', 'trade', 'banking', 'system', 'technology', 'consumer', 'activity', 'manufacturer', 'development', 'investor', 'institution', 'stock', 'production', 'job', 'unit', 'organization', 'program', 'network', 'group', 'commerce', 'manufacturing', 'management', 'store', 'people', 'tourism', 'transaction', 'retailer', 'factory', 'sport', 'fund', 'community', 'financial institution', 'country', 'asset', 'agency', 'subsidiary', 'work', 'politics', 'joint venture', 'worker', 'division', 'airline', 'farmer', 'provider', 'export', 'marketing', 'growth', 'real estate', 'individual', 'life', 'school', 'plant', 'revenue', 'government', 'agriculture', 'area', 'shop', 'property', 'education', 'interest', 'family', 'user', 'supplier', 'e-commerce', 'facility', 'telecommunication', 'research', 'Advertising', 'world', 'profit', 'employer', 'employee', 'site', 'office', 'communication', 'infrastructure', 'Internet', 'buyer', 'maker', 'state', 'process', 'finance', 'operator', 'deal', 'money', 'construction', 'security', 'culture', 'software', 'startup', 'department', 'those', 'brand', 'issue', 'marketplace', 'environment', 'goods', 'society', 'strategy', 'utility', 'entity', 'center', 'loan', 'share', 'price', 'client', 'art', 'city', 'earnings', 'purchase', 'plan', 'problem', 'media', 'equipment', 'China', 'conglomerate', 'producer', 'Computer', 'nation', 'entrepreneur', 'competition', 'insurance', 'relationship', 'region', 'stock market', 'student', 'policy', 'restaurant', 'businessmen', 'outlet', 'Entertainment', 'resource', 'retailing', 'cooperation', 'transportation', 'public', 'science', 'trading', 'commercial bank', 'insurance company', 'farming', 'account', 'merchant', 'professional', 'giant', 'acquisition', 'future', 'portfolio', 'distribution', 'carrier', 'insurer', 'field', 'relation', 'effort', 'developer', 'health care', 'application', 'chain', 'health', 'exporter', 'partnership', 'building', 'dealer', 'number', 'case', 'practice', 'thing', 'house', 'campaign', 'spending', 'employment', 'mutual fund', 'owner', 'lending', 'income', 'profession', 'household', 'woman', 'resident', 'child', 'hospital', 'power', 'contract', 'military'])\n",
      "Similarity score for business and enterprise:\n",
      "[('simA.lsp', '.*\\\\.lsp'), ('simN.lsp', 0.202295), ('simV.lsp', '.*\\\\.lsp')]\n"
     ]
    }
   ],
   "source": [
    "import nltk\n",
    "nltk.corpus.reader.lin.demo()"
   ]
  },
  {
   "cell_type": "code",
   "execution_count": 44,
   "metadata": {},
   "outputs": [
    {
     "data": {
      "text/plain": [
       "[]"
      ]
     },
     "execution_count": 44,
     "metadata": {},
     "output_type": "execute_result"
    }
   ],
   "source": [
    "import re\n",
    "from collections import defaultdict\n",
    "from functools import reduce\n",
    "\n",
    "from nltk.corpus.reader import CorpusReader, LinThesaurusCorpusReader\n",
    "\n",
    "#s = nltk.corpus.reader.lin.LinThesaurusCorpusReader(CorpusReader)\n",
    "s = nltk.corpus.reader.lin.LinThesaurusCorpusReader('.')\n",
    "s.synonyms('map')"
   ]
  },
  {
   "cell_type": "code",
   "execution_count": 45,
   "metadata": {},
   "outputs": [
    {
     "data": {
      "text/plain": [
       "[Synset('canine.n.02'), Synset('domestic_animal.n.01')]"
      ]
     },
     "execution_count": 45,
     "metadata": {},
     "output_type": "execute_result"
    }
   ],
   "source": [
    "dog = wn.synset('dog.n.01')\n",
    "dog.hypernyms()"
   ]
  },
  {
   "cell_type": "code",
   "execution_count": 90,
   "metadata": {},
   "outputs": [
    {
     "data": {
      "text/plain": [
       "[Synset('basenji.n.01'),\n",
       " Synset('corgi.n.01'),\n",
       " Synset('cur.n.01'),\n",
       " Synset('dalmatian.n.02'),\n",
       " Synset('great_pyrenees.n.01'),\n",
       " Synset('griffon.n.02'),\n",
       " Synset('hunting_dog.n.01'),\n",
       " Synset('lapdog.n.01'),\n",
       " Synset('leonberg.n.01'),\n",
       " Synset('mexican_hairless.n.01'),\n",
       " Synset('newfoundland.n.01'),\n",
       " Synset('pooch.n.01'),\n",
       " Synset('poodle.n.01'),\n",
       " Synset('pug.n.01'),\n",
       " Synset('puppy.n.01'),\n",
       " Synset('spitz.n.01'),\n",
       " Synset('toy_dog.n.01'),\n",
       " Synset('working_dog.n.01')]"
      ]
     },
     "execution_count": 90,
     "metadata": {},
     "output_type": "execute_result"
    }
   ],
   "source": [
    "dog.hyponyms()"
   ]
  },
  {
   "cell_type": "code",
   "execution_count": 47,
   "metadata": {},
   "outputs": [
    {
     "data": {
      "text/plain": [
       "[Synset('canis.n.01'), Synset('pack.n.06')]"
      ]
     },
     "execution_count": 47,
     "metadata": {},
     "output_type": "execute_result"
    }
   ],
   "source": [
    "dog.member_holonyms()"
   ]
  },
  {
   "cell_type": "code",
   "execution_count": 48,
   "metadata": {},
   "outputs": [
    {
     "data": {
      "text/plain": [
       "[Synset('entity.n.01')]"
      ]
     },
     "execution_count": 48,
     "metadata": {},
     "output_type": "execute_result"
    }
   ],
   "source": [
    "dog.root_hypernyms()"
   ]
  },
  {
   "cell_type": "code",
   "execution_count": 49,
   "metadata": {},
   "outputs": [
    {
     "data": {
      "text/plain": [
       "[Synset('carnivore.n.01')]"
      ]
     },
     "execution_count": 49,
     "metadata": {},
     "output_type": "execute_result"
    }
   ],
   "source": [
    "wn.synset('dog.n.01').lowest_common_hypernyms(wn.synset('cat.n.01'))"
   ]
  },
  {
   "cell_type": "code",
   "execution_count": 62,
   "metadata": {},
   "outputs": [
    {
     "name": "stdout",
     "output_type": "stream",
     "text": [
      "{'combat-ready', 'active_agent', 'fighting', 'participating', 'alive', 'active', 'active_voice', 'dynamic'}\n",
      "{'extinct', 'dormant', 'passive_voice', 'stative', 'passive', 'quiet', 'inactive'}\n"
     ]
    }
   ],
   "source": [
    "from nltk.corpus import wordnet\n",
    "\n",
    "synonyms = []\n",
    "antonyms = []\n",
    "\n",
    "for syn in wordnet.synsets(\"active\"):\n",
    "    for l in syn.lemmas():\n",
    "        synonyms.append(l.name())\n",
    "        if l.antonyms():\n",
    "            antonyms.append(l.antonyms()[0].name())\n",
    "        if l.hypernyms():\n",
    "            print(f'hypernyms: {l.hypernyms()}')\n",
    "        if l.hyponyms():\n",
    "            print(f'hyponyms: {l.hyponyms()}')\n",
    "        # no holonyms?  no meronyms?\n",
    "        if syn.member_holonyms():\n",
    "            print(f'holonyms: {syn.member_holonyms()}')\n",
    "        if syn.member_meronyms():\n",
    "            print(f'meronyms: {syn.member_meronyms()}')\n",
    "\n",
    "print(set(synonyms))\n",
    "print(set(antonyms))"
   ]
  },
  {
   "cell_type": "code",
   "execution_count": 71,
   "metadata": {},
   "outputs": [
    {
     "name": "stdout",
     "output_type": "stream",
     "text": [
      "plan.n.01\n",
      "plan\n",
      "['curriculum', 'computer_programme', 'political_platform', 'political_program', 'broadcast', 'syllabus', 'computer_program', 'plan', 'program', 'platform', 'course_of_study', 'programme']\n"
     ]
    }
   ],
   "source": [
    "from nltk.corpus import wordnet\n",
    "syns = wordnet.synsets(\"program\")\n",
    "print(syns[0].name())\n",
    "print(syns[0].lemmas()[0].name())\n",
    "\n",
    "def get_synonyms(w):\n",
    "    syn_list = []\n",
    "    syns = wordnet.synsets(w)\n",
    "    for s in syns:\n",
    "        for l in s.lemmas():\n",
    "            syn_list.append(l.name())\n",
    "\n",
    "    return synlist\n",
    "    \n",
    "syn_list = []\n",
    "for s in syns:\n",
    "    for l in s.lemmas():\n",
    "        #print(l.name())\n",
    "        syn_list.append(l.name())\n",
    "\n",
    "print(list(set(syn_list)))"
   ]
  },
  {
   "cell_type": "markdown",
   "metadata": {},
   "source": [
    "### IDEA\n",
    "\n",
    "1. Get the most important words for each document.\n",
    "1. for the top n words, get their synonyms\n",
    "1. Use the synonyms to find similar documents (using other doc keyword synonyms as well)"
   ]
  },
  {
   "cell_type": "code",
   "execution_count": 91,
   "metadata": {},
   "outputs": [],
   "source": [
    "from nltk.corpus import wordnet\n",
    "\n",
    "def get_synonyms(w, spaces=False):\n",
    "    syn_list = []\n",
    "    syns = wordnet.synsets(w)\n",
    "    for s in syns:\n",
    "        for l in s.lemmas():\n",
    "            syn_list.append(l.name())\n",
    "            \n",
    "    # replace underscores with spaces\n",
    "    syn_list = list(set(syn_list))\n",
    "    if spaces:\n",
    "        new_list = []\n",
    "        for i in syn_list:\n",
    "            new_list.append(i.replace('_',' '))\n",
    "        syn_list = new_list\n",
    "\n",
    "    return syn_list\n",
    "\n",
    "def get_antonyms(w, spaces=False):\n",
    "    ant_list = []\n",
    "    syns = wordnet.synsets(w)\n",
    "    for s in syns:\n",
    "        for l in s.lemmas():\n",
    "            #syn_list.append(l.name())\n",
    "            if l.antonyms():\n",
    "                for a in l.antonyms():\n",
    "                    ant_list.append(a.name())\n",
    "            \n",
    "    # replace underscores with spaces\n",
    "    ant_list = list(set(ant_list))\n",
    "    if spaces:\n",
    "        new_list = []\n",
    "        for i in ant_list:\n",
    "            new_list.append(i.replace('_',' '))\n",
    "        ant_list = new_list\n",
    "\n",
    "    return ant_list"
   ]
  },
  {
   "cell_type": "code",
   "execution_count": 92,
   "metadata": {},
   "outputs": [
    {
     "data": {
      "text/plain": [
       "['girl', 'daughter', 'female_child']"
      ]
     },
     "execution_count": 92,
     "metadata": {},
     "output_type": "execute_result"
    }
   ],
   "source": [
    "get_antonyms('boy')"
   ]
  },
  {
   "cell_type": "code",
   "execution_count": 86,
   "metadata": {},
   "outputs": [
    {
     "data": {
      "text/plain": [
       "['son', 'male_child', 'boy']"
      ]
     },
     "execution_count": 86,
     "metadata": {},
     "output_type": "execute_result"
    }
   ],
   "source": [
    "get_synonyms('boy')"
   ]
  },
  {
   "cell_type": "code",
   "execution_count": 78,
   "metadata": {},
   "outputs": [
    {
     "data": {
      "text/plain": [
       "[\"Einstein's_theory_of_relativity\",\n",
       " 'theory_of_relativity',\n",
       " 'relativity_theory',\n",
       " 'relativity']"
      ]
     },
     "execution_count": 78,
     "metadata": {},
     "output_type": "execute_result"
    }
   ],
   "source": [
    "get_synonyms('relativity', spaces=False)"
   ]
  },
  {
   "cell_type": "code",
   "execution_count": null,
   "metadata": {},
   "outputs": [],
   "source": [
    "get"
   ]
  },
  {
   "cell_type": "code",
   "execution_count": 99,
   "metadata": {},
   "outputs": [
    {
     "data": {
      "text/plain": [
       "['powerlessness', 'inability']"
      ]
     },
     "execution_count": 99,
     "metadata": {},
     "output_type": "execute_result"
    }
   ],
   "source": [
    "get_antonyms('power')"
   ]
  },
  {
   "cell_type": "code",
   "execution_count": 84,
   "metadata": {},
   "outputs": [
    {
     "data": {
      "text/plain": [
       "['exponent',\n",
       " 'power',\n",
       " 'tycoon',\n",
       " 'big_businessman',\n",
       " 'ability',\n",
       " 'mightiness',\n",
       " 'magnate',\n",
       " 'force',\n",
       " 'world_power',\n",
       " 'major_power',\n",
       " 'baron',\n",
       " 'top_executive',\n",
       " 'superpower',\n",
       " 'powerfulness',\n",
       " 'might',\n",
       " 'office',\n",
       " 'index',\n",
       " 'great_power',\n",
       " 'business_leader',\n",
       " 'king',\n",
       " 'mogul']"
      ]
     },
     "execution_count": 84,
     "metadata": {},
     "output_type": "execute_result"
    }
   ],
   "source": [
    "get_synonyms('power')"
   ]
  },
  {
   "cell_type": "code",
   "execution_count": 83,
   "metadata": {},
   "outputs": [
    {
     "data": {
      "text/plain": [
       "['US Army',\n",
       " 'U. S. Army',\n",
       " 'regular army',\n",
       " 'Army',\n",
       " 'USA',\n",
       " 'ground forces',\n",
       " 'United States Army',\n",
       " 'army']"
      ]
     },
     "execution_count": 83,
     "metadata": {},
     "output_type": "execute_result"
    }
   ],
   "source": [
    "get_synonyms('army', spaces=True)"
   ]
  },
  {
   "cell_type": "code",
   "execution_count": 88,
   "metadata": {},
   "outputs": [
    {
     "data": {
      "text/plain": [
       "['personal_identity',\n",
       " 'identity_operator',\n",
       " 'identity',\n",
       " 'individuality',\n",
       " 'identity_element',\n",
       " 'indistinguishability',\n",
       " 'identicalness']"
      ]
     },
     "execution_count": 88,
     "metadata": {},
     "output_type": "execute_result"
    }
   ],
   "source": [
    "get_synonyms('identity')"
   ]
  }
 ],
 "metadata": {
  "kernelspec": {
   "display_name": "ml-env",
   "language": "python",
   "name": "ml-env"
  },
  "language_info": {
   "codemirror_mode": {
    "name": "ipython",
    "version": 3
   },
   "file_extension": ".py",
   "mimetype": "text/x-python",
   "name": "python",
   "nbconvert_exporter": "python",
   "pygments_lexer": "ipython3",
   "version": "3.6.8"
  }
 },
 "nbformat": 4,
 "nbformat_minor": 2
}
