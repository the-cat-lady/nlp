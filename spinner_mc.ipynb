{
 "cells": [
  {
   "cell_type": "markdown",
   "metadata": {},
   "source": [
    "### Make a Spinner\n",
    "1. Learn similar words, and convert a corpus to trigrams\n",
    "1. try to replace some of the words in the trigrams to make a tweaked version of the original corpus."
   ]
  },
  {
   "cell_type": "code",
   "execution_count": 43,
   "metadata": {},
   "outputs": [],
   "source": [
    "import nltk\n",
    "import random\n",
    "import numpy as np\n",
    "from bs4 import BeautifulSoup"
   ]
  },
  {
   "cell_type": "code",
   "execution_count": 44,
   "metadata": {},
   "outputs": [],
   "source": [
    "# import data\n",
    "positive_reviews = BeautifulSoup(open('data/positive.review').read())\n",
    "positive_reviews = positive_reviews.findAll('review_text')"
   ]
  },
  {
   "cell_type": "markdown",
   "metadata": {},
   "source": [
    "### Create trigrams\n",
    "* Trigrams are three consecutive words from a string of words or corpus.  \n",
    "* In this case I'll start by trying to replace the middle word in trigrams.\n",
    "* Using the trigrams, build up a dictionary of trigrams, where the *key* = tuple of before-word and after-word, and the *value* is the list of words found between said tuple.\n",
    "\n",
    "Example:\n",
    "\n",
    "```{('i', 'this'): ['purchased', 'bought', 'recommend', 'use'], (x, y):[abc, def], ...} ```"
   ]
  },
  {
   "cell_type": "code",
   "execution_count": 45,
   "metadata": {},
   "outputs": [],
   "source": [
    "trigrams = {} # ex: {('i', 'this'): ['purchased', 'bought', 'recommend', 'use'], (x, y):[abc, def], ...}\n",
    "for review in positive_reviews:\n",
    "    s = review.text.lower()\n",
    "    tokens = nltk.tokenize.word_tokenize(s)\n",
    "    for i in range(len(tokens) - 2):\n",
    "        k = (tokens[i], tokens[i+2])\n",
    "        if k not in trigrams:\n",
    "            trigrams[k] = []\n",
    "        trigrams[k].append(tokens[i+1]) # key = tuple of before-word and after-word, val = list of between words\n"
   ]
  },
  {
   "cell_type": "code",
   "execution_count": 46,
   "metadata": {
    "scrolled": true
   },
   "outputs": [
    {
     "name": "stdout",
     "output_type": "stream",
     "text": [
      "33 1000\n",
      "67295\n",
      "['area', 'camera', 'files', 'itrip', 'ipod', 'needs', 'mac', 'ipod', 'dvd/cd', 'head', 'ears', 'imac', 'notebook', 't.v', 'cellphone', 'notes', 'office', 'window', 'pc', 'friends', 'mac', 'ear', 'taste', 'netgear', 'phone', 'jazz', 'shoulder', 'pocket', 'gut', 'side', 'walls', 'computer', 'husband', 'movies', 'wife', 'pc', 'wife', 'psp', 'laptop', 'wife', 'stereo', 'order', 'router', 'ipod', 'pocket', 'lap', 'mp3', 'first', 'friend', 'nightstand', 'purchase', 'ipod', 'computer', 'wife', 'ear', 'head', 'husband', 'laptop', 'calendar', 'powerbook', 'quickcam', 'mp500'] \n",
      "\n",
      "['purchased', 'bought', 'bought', 'recomend', 'made', 'picked', 'say', 'bought', 'purchased', 'use', 'bought', 'had', 'bought', 'got', 'got', 'purchased', 'think', 'use', 'ordered', 'matched', 'bought', 'think', 'bought', 'picked', 'picked', 'noticed', 'ordered', 'purchased', 'bought', 'use', 'bought', 'purchased', 'bought', 'thought', 'recommend', 'got', 'bought', 'use', 'use', 'bought', 'choose', 'like', 'bought', 'purchased', 'found', 'got', 'got', 'bought', 'did', 'purchased', 'find', 'did', 'bought', 'purchased', 'bought', 'purchased', 'set', 'love', 'hold', 'bought', 'purchased', 'bought', 'purchased', 'bought', 'found', 'purchased', 'received', 'made', 'have', 'bought', 'bought', 'found', 'find', 'buy', 'bought', 'got', 'found', 'bought', 'found', 'chose', 'think', 'bought', 'purchased', 'bought', 'bought', 'love', 'chose', 'bought', 'bought', 'got', 'put', 'bought', 'used', 'bought', 'bought', 'recommend', 'bought', 'have', 'used', 'purchased', 'give', 'believe', 'recommend', 'bought', 'mention', 'use', 'bought', 'bought', 'bought', 'worked', 'bought', 'bet', 'purchased', 'bought', 'think', 'went', 'pop', 'found', 'have', 'bought', 'use', 'selected', 'purchased', 'bought', 'bought', 'like', 'use', 'bought', 'heard', 'bought', 'use', 'do', 'bought', 'love', 'purchased', 'purchased', 'checked', 'find', 'bought', 'think', 'bought', 'got', 'plugged', 'recommend', 'consider', 'love', 'found', 'bought', 'got', 'think', 'bought', 'reccomend', 'purchased', 'purchased', 'find', 'bought', 'found', 'received', 'did', 'found', 'bought']\n"
     ]
    }
   ],
   "source": [
    "print(len(tokens), len(positive_reviews))\n",
    "print(len(trigrams))\n",
    "\n",
    "# look at a couple of trigram middle-words:\n",
    "print(trigrams[('my', 'and')], '\\n') # nouns\n",
    "print(trigrams[('i', 'this')]) # verbs"
   ]
  },
  {
   "cell_type": "code",
   "execution_count": 47,
   "metadata": {},
   "outputs": [],
   "source": [
    "trigrams_probabilities = {} # key = before & after word tuple, val = dict of middlewords:probabilities\n",
    "# ex: {('i', 'this'): {'purchased': 0.12422360248447205, 'bought': 0.3105590062111801},...}\n",
    "for k, words in trigrams.items():\n",
    "    if len(set(words)) > 1:\n",
    "        d = {}\n",
    "        n = 0\n",
    "        for w in words:\n",
    "            if w not in d:\n",
    "                d[w] = 0\n",
    "            d[w] += 1\n",
    "            n += 1\n",
    "        for w, c in d.items():\n",
    "            d[w] = float(c) / n\n",
    "        trigrams_probabilities[k] = d"
   ]
  },
  {
   "cell_type": "markdown",
   "metadata": {},
   "source": [
    "Evaluate trigram probabilities"
   ]
  },
  {
   "cell_type": "code",
   "execution_count": 48,
   "metadata": {},
   "outputs": [],
   "source": [
    "def random_sample(d):\n",
    "    r = random.random()\n",
    "    cumulative = 0\n",
    "    for w, p in d.items():\n",
    "        cumulative += p\n",
    "        if r < cumulative:\n",
    "            return w"
   ]
  },
  {
   "cell_type": "code",
   "execution_count": 49,
   "metadata": {},
   "outputs": [],
   "source": [
    "# test the random_sample() function.  select a review, make substitution, print both for comparison\n",
    "def test_spinner():\n",
    "    review = random.choice(positive_reviews)\n",
    "    s = review.text.lower()\n",
    "    print('Original: ', s)\n",
    "    tokens = nltk.tokenize.word_tokenize(s)\n",
    "    for i in range(len(tokens) -2):\n",
    "        if random.random() < 0.2:\n",
    "            k = (tokens[i], tokens[i+2])\n",
    "            if k in trigrams_probabilities:\n",
    "                w = random_sample(trigrams_probabilities[k])\n",
    "                tokens[i+1] = w\n",
    "    print('Spun: ')\n",
    "    print(' '.join(tokens).replace(' .','.').replace(\" ''\", \"''\").replace(' ,',',').replace('$ ','$').replace(' !','!'))"
   ]
  },
  {
   "cell_type": "code",
   "execution_count": 51,
   "metadata": {},
   "outputs": [
    {
     "name": "stdout",
     "output_type": "stream",
     "text": [
      "Original:  \n",
      "this map set met all my expectations, and was far more current than i had expected.  software for turn by turn directions on roadways while driving works great with the garmin ctrex gps.  recommended. to load many states you will need large memory card, 1 gb. \n",
      "\n",
      "Spun: \n",
      "this exact set met all my sansa, and was far more current than i had expected. software for turn by turn back on roadways while driving works great! the garmin handheld gps. recommended accessory to load many adapters you will need large memory card, 1 gb.\n"
     ]
    }
   ],
   "source": [
    "# inspect results\n",
    "test_spinner()"
   ]
  },
  {
   "cell_type": "markdown",
   "metadata": {},
   "source": [
    "### Conclusions\n",
    "In general, this is not a very good spinner.  A lot of the sampled spun reviews are nonsense.  Should probably add POS or additional previous words as context, even at a cost of having less samples on which to learn."
   ]
  },
  {
   "cell_type": "code",
   "execution_count": null,
   "metadata": {},
   "outputs": [],
   "source": []
  }
 ],
 "metadata": {
  "kernelspec": {
   "display_name": "Python 3",
   "language": "python",
   "name": "python3"
  },
  "language_info": {
   "codemirror_mode": {
    "name": "ipython",
    "version": 3
   },
   "file_extension": ".py",
   "mimetype": "text/x-python",
   "name": "python",
   "nbconvert_exporter": "python",
   "pygments_lexer": "ipython3",
   "version": "3.7.0"
  }
 },
 "nbformat": 4,
 "nbformat_minor": 2
}
